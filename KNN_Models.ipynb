{
 "cells": [
  {
   "cell_type": "markdown",
   "id": "673455e9-7133-49c9-a060-dc266a594c38",
   "metadata": {},
   "source": [
    "Jeffery Smith\n",
    "\n",
    "k-Nearest Neighbors Models"
   ]
  },
  {
   "cell_type": "code",
   "execution_count": 8,
   "id": "82223f12-20c1-4191-a974-74cb4f8d31aa",
   "metadata": {},
   "outputs": [],
   "source": [
    "import pandas as pd\n",
    "from sklearn.model_selection import train_test_split\n",
    "from sklearn.neighbors import KNeighborsClassifier, KNeighborsRegressor\n",
    "from sklearn.metrics import accuracy_score, classification_report, confusion_matrix, mean_squared_error, roc_auc_score, RocCurveDisplay"
   ]
  },
  {
   "cell_type": "code",
   "execution_count": 16,
   "id": "921f67cd-e7b9-430b-811d-763de074db49",
   "metadata": {},
   "outputs": [
    {
     "name": "stdout",
     "output_type": "stream",
     "text": [
      "The accuracy for k = 7 is: 0.88\n"
     ]
    }
   ],
   "source": [
    "#  Accuracy test for K and how my 7 parameter was chosen going forward.\n",
    "\n",
    "def accuracy(k, X_train, y_train, X_test, y_test):\n",
    "    \n",
    "    # instantiate learning model and fit data\n",
    "    knn = KNeighborsClassifier(n_neighbors=k)    \n",
    "    knn.fit(X_train, y_train)\n",
    "\n",
    "    \n",
    "    # predict the response\n",
    "    pred = knn.predict(X_test)\n",
    "\n",
    "\n",
    "    # evaluate and return  accuracy\n",
    "    return accuracy_score(y_test, pred)\n",
    "\n",
    "\n",
    "# Load the dataset\n",
    "train_df = pd.read_csv('train.csv')\n",
    "\n",
    "\n",
    "# Encode churn column as binary\n",
    "train_df[\"churn_encoded\"] = train_df[\"churn\"].map({\"no\": 0, \"yes\": 1})\n",
    "\n",
    "\n",
    "x = train_df[['total_day_minutes', 'total_eve_minutes', 'total_night_minutes',\n",
    "              'total_intl_minutes', 'total_day_calls', 'total_eve_calls',\n",
    "              'total_night_calls', 'number_customer_service_calls']]\n",
    "\n",
    "# Target of what we are trying to predict \n",
    "y = train_df['churn_encoded']  # Targetting the 1:0 yes:no frame\n",
    "\n",
    "\n",
    "\n",
    "# 2. Split the data into training and testing sets\n",
    "X_train, X_test, y_train, y_test = train_test_split(X, y, test_size=0.2, random_state=20)\n",
    "\n",
    "# 3. Call the accuracy function with a chosen value for k\n",
    "k_value = 7\n",
    "test_accuracy = accuracy(k_value, X_train, y_train, X_test, y_test)\n",
    "\n",
    "# 4. Print the result\n",
    "print(f\"The accuracy for k = {k_value} is: {test_accuracy:.2f}\")"
   ]
  },
  {
   "cell_type": "code",
   "execution_count": 14,
   "id": "4d63c7c5-964d-4958-af5a-3e1bf67b6b64",
   "metadata": {},
   "outputs": [
    {
     "name": "stdout",
     "output_type": "stream",
     "text": [
      "\n",
      "The best k value is 7 with an accuracy of 0.88\n"
     ]
    }
   ],
   "source": [
    "# Code provided by Google for sanity check\n",
    "# --- Example of finding the best k ---\n",
    "\n",
    "# You can also use the function to find the best k\n",
    "k_range = range(1, 10)\n",
    "scores = {}\n",
    "for k in k_range:\n",
    "    scores[k] = accuracy(k, X_train, y_train, X_test, y_test)\n",
    "\n",
    "best_k = max(scores, key=scores.get)\n",
    "print(f\"\\nThe best k value is {best_k} with an accuracy of {scores[best_k]:.2f}\")  "
   ]
  },
  {
   "cell_type": "code",
   "execution_count": 9,
   "id": "e6599b71-ffb4-41d0-a2de-edf93f3be764",
   "metadata": {},
   "outputs": [
    {
     "name": "stdout",
     "output_type": "stream",
     "text": [
      "Accuracy: 0.885\n",
      "[[707  15]\n",
      " [ 83  45]]\n",
      "              precision    recall  f1-score   support\n",
      "\n",
      "           0       0.89      0.98      0.94       722\n",
      "           1       0.75      0.35      0.48       128\n",
      "\n",
      "    accuracy                           0.88       850\n",
      "   macro avg       0.82      0.67      0.71       850\n",
      "weighted avg       0.87      0.88      0.87       850\n",
      "\n"
     ]
    }
   ],
   "source": [
    "# K-Nearest Neighbors (Euclidean)\n",
    "# Using Classifier KNN for churn_encoded\n",
    "\n",
    "# Creating function for Accuracy test of K in training data.\n",
    "def accuracy(k, X_train, y_train, X_test, y_test):\n",
    "    \n",
    "    # instantiate learning model and fit data\n",
    "    knn = KNeighborsClassifier(n_neighbors=k)    \n",
    "    knn.fit(X_train, y_train)\n",
    "\n",
    "    \n",
    "    # predict the response\n",
    "    pred = knn.predict(X_test)\n",
    "\n",
    "\n",
    "    # evaluate and return accuracy\n",
    "    return accuracy_score(y_test, pred)\n",
    "\n",
    "\n",
    "# Load training data\n",
    "train_df = pd.read_csv('train.csv')\n",
    "\n",
    "# Encode churn column as binary\n",
    "train_df[\"churn_encoded\"] = train_df[\"churn\"].map({\"no\": 0, \"yes\": 1})\n",
    "\n",
    "# Features (predictors)\n",
    "X = train_df[['total_day_minutes', 'total_eve_minutes', 'total_night_minutes',\n",
    "              'total_intl_minutes', 'total_day_calls', 'total_eve_calls',\n",
    "              'total_night_calls', 'number_customer_service_calls']]\n",
    "\n",
    "# Target of what we are trying to predict \n",
    "y = train_df['churn_encoded']  # Targetting the 1:0 yes:no frame\n",
    "\n",
    "# Split the data into training and testing sets\n",
    "X_train, X_test, y_train, y_test = train_test_split(X, y, test_size=0.2, random_state=20)\n",
    "\n",
    "# Train the KNN model\n",
    "knn_model = KNeighborsClassifier(n_neighbors=7) # 'k' value\n",
    "knn_model.fit(X_train, y_train)\n",
    "\n",
    "# Make predictions\n",
    "y_pred = knn_model.predict(X_test)\n",
    "\n",
    "# Evaluate the model\n",
    "print(f\"Accuracy: {accuracy_score(y_test, y_pred):.3f}\")\n",
    "print(confusion_matrix(y_test, y_pred))\n",
    "print(classification_report(y_test, y_pred))"
   ]
  }
 ],
 "metadata": {
  "kernelspec": {
   "display_name": "Python [conda env:AAI_500_Project] *",
   "language": "python",
   "name": "conda-env-AAI_500_Project-py"
  },
  "language_info": {
   "codemirror_mode": {
    "name": "ipython",
    "version": 3
   },
   "file_extension": ".py",
   "mimetype": "text/x-python",
   "name": "python",
   "nbconvert_exporter": "python",
   "pygments_lexer": "ipython3",
   "version": "3.11.13"
  }
 },
 "nbformat": 4,
 "nbformat_minor": 5
}
