{
 "cells": [
  {
   "cell_type": "code",
   "execution_count": null,
   "id": "b22f2999-9dbd-453b-8f7f-33554fca9ca6",
   "metadata": {},
   "outputs": [],
   "source": [
    "df = pd.read_csv(\"archive/train.csv\" )\n",
    "\n",
    "# Map target to binary\n",
    "if \"churn\" not in df.columns:\n",
    "    raise ValueError(\"Expected a 'churn' column in the training CSV.\")\n",
    "df[\"churn_binary\"] = df[\"churn\"].map({\"yes\": 1, \"no\": 0})\n",
    "\n",
    "X = df.drop(columns=[\"churn\", \"churn_binary\"])\n",
    "y = df[\"churn_binary\"]\n",
    "\n",
    "display(df.head())\n",
    "print(\"Shape:\", df.shape)\n",
    "print(\"Target positive rate:\", y.mean().round(4))\n"
   ]
  },
  {
   "cell_type": "code",
   "execution_count": 2,
   "id": "a468d140-6a3b-45fe-be31-d97848b479c4",
   "metadata": {},
   "outputs": [],
   "source": [
    "#train split 80/20\n",
    "X_train, X_test, y_train, y_test = train_test_split(\n",
    "    X, y, test_size=0.2, random_state=42, stratify=y\n",
    ")\n",
    "\n",
    "cat_cols = X.select_dtypes(include=[\"object\"]).columns.tolist()\n",
    "num_cols = X.select_dtypes(exclude=[\"object\"]).columns.tolist()\n",
    "\n",
    "print(\"Categorical:\", cat_cols)\n",
    "print(\"Numerical:\", num_cols)"
   ]
  },
  {
   "cell_type": "code",
   "execution_count": null,
   "id": "65ac7067-de75-4375-a3b2-7b7aa067cd4f",
   "metadata": {},
   "outputs": [],
   "source": [
    "#preprocessing\n",
    "numeric_transformer = Pipeline([(\"scaler\", StandardScaler())])\n",
    "categorical_transformer = Pipeline([(\"ohe\", OneHotEncoder(handle_unknown=\"ignore\"))])\n",
    "\n",
    "preprocess = ColumnTransformer(\n",
    "    [(\"num\", numeric_transformer, num_cols),\n",
    "     (\"cat\", categorical_transformer, cat_cols)]\n",
    ")\n"
   ]
  },
  {
   "cell_type": "code",
   "execution_count": null,
   "id": "f2bc2e43-d672-425a-b2f2-55a5a5c680bc",
   "metadata": {},
   "outputs": [],
   "source": [
    "#training\n",
    "pipe_lr = Pipeline([\n",
    "    (\"preprocess\", preprocess),\n",
    "    (\"clf\", LogisticRegression(max_iter=2000, class_weight=\"balanced\"))\n",
    "])\n",
    "\n",
    "pipe_rf = Pipeline([\n",
    "    (\"preprocess\", preprocess),\n",
    "    (\"clf\", RandomForestClassifier(\n",
    "        n_estimators=300, class_weight=\"balanced\", random_state=42\n",
    "    ))\n",
    "])\n",
    "\n",
    "pipe_lr.fit(X_train, y_train)\n",
    "pipe_rf.fit(X_train, y_train)\n",
    "print(\"Models trained.\")\n"
   ]
  },
  {
   "cell_type": "code",
   "execution_count": null,
   "id": "54746b05-9519-4c83-8641-db52254ce9de",
   "metadata": {},
   "outputs": [],
   "source": [
    "#generate best model\n",
    "proba_lr = pipe_lr.predict_proba(X_test)[:, 1]\n",
    "proba_rf = pipe_rf.predict_proba(X_test)[:, 1]\n",
    "\n",
    "auc_lr = roc_auc_score(y_test, proba_lr)\n",
    "auc_rf = roc_auc_score(y_test, proba_rf)\n",
    "\n",
    "if auc_rf >= auc_lr:\n",
    "    best_name, best_model, y_proba = \"RandomForest\", pipe_rf, proba_rf\n",
    "else:\n",
    "    best_name, best_model, y_proba = \"LogisticRegression\", pipe_lr, proba_lr\n",
    "\n",
    "print(f\"Best model: {best_name} | AUC_LR={auc_lr:.3f} | AUC_RF={auc_rf:.3f}\")\n"
   ]
  },
  {
   "cell_type": "code",
   "execution_count": null,
   "id": "ba9b2b75-509f-4ed9-b572-73857165d7cc",
   "metadata": {},
   "outputs": [],
   "source": [
    "#evaluation 0.5\n",
    "y_pred = (y_proba >= 0.5).astype(int)\n",
    "\n",
    "acc = accuracy_score(y_test, y_pred)\n",
    "prec = precision_score(y_test, y_pred, zero_division=0)\n",
    "rec = recall_score(y_test, y_pred, zero_division=0)\n",
    "f1 = f1_score(y_test, y_pred, zero_division=0)\n",
    "roc_auc = roc_auc_score(y_test, y_proba)\n",
    "avg_prec = average_precision_score(y_test, y_proba)\n",
    "\n",
    "print(f\"Accuracy={acc:.3f}, Precision={prec:.3f}, Recall={rec:.3f}, \"\n",
    "      f\"F1={f1:.3f}, ROC-AUC={roc_auc:.3f}, PR-AUC(AP)={avg_prec:.3f}\")\n",
    "print(\"\\nClassification Report:\\n\", classification_report(y_test, y_pred))\n",
    "print(\"\\nConfusion Matrix:\\n\", confusion_matrix(y_test, y_pred))"
   ]
  },
  {
   "cell_type": "code",
   "execution_count": null,
   "id": "52f73cc0-9bdd-465b-873c-6526f236ed45",
   "metadata": {},
   "outputs": [],
   "source": [
    "#generate graphs\n",
    "fpr, tpr, _ = roc_curve(y_test, y_proba)\n",
    "plt.figure(figsize=(6, 4))\n",
    "plt.plot(fpr, tpr, label=f\"{best_name} (AUC={roc_auc:.3f})\")\n",
    "plt.plot([0, 1], [0, 1], linestyle=\"--\")\n",
    "plt.xlabel(\"False Positive Rate\"); plt.ylabel(\"True Positive Rate\")\n",
    "plt.title(\"ROC Curve\"); plt.legend(loc=\"lower right\"); plt.tight_layout()\n",
    "plt.show()\n",
    "\n",
    "pr_prec, pr_rec, _ = precision_recall_curve(y_test, y_proba)\n",
    "plt.figure(figsize=(6, 4))\n",
    "plt.plot(pr_rec, pr_prec, label=f\"{best_name} (AP={avg_prec:.3f})\")\n",
    "plt.xlabel(\"Recall\"); plt.ylabel(\"Precision\")\n",
    "plt.title(\"Precision-Recall Curve\"); plt.legend(loc=\"lower left\"); plt.tight_layout()\n",
    "plt.show()\n"
   ]
  },
  {
   "cell_type": "code",
   "execution_count": null,
   "id": "1475d924-6da7-4361-8be7-f05fee2df88e",
   "metadata": {},
   "outputs": [],
   "source": [
    "#save model\n",
    "MODEL_PATH = \"churn_model_pipeline.joblib\"\n",
    "import joblib\n",
    "joblib.dump(best_model, MODEL_PATH)\n",
    "print(f\"Model saved -> {MODEL_PATH}\")"
   ]
  },
  {
   "cell_type": "code",
   "execution_count": null,
   "id": "0170651e-1df3-4b47-82d3-980e7875f0b6",
   "metadata": {},
   "outputs": [],
   "source": [
    "#try model on test.csv\n",
    "NEW_DATA_CSV = \"archive/test.csv\"\n",
    "new_data = pd.read_csv(NEW_DATA_CSV)\n",
    "proba_new = best_model.predict_proba(new_data)[:, 1]\n",
    "pred_new = (proba_new >= 0.5).astype(int)\n",
    "out = new_data.copy()\n",
    "out[\"churn_proba\"] = proba_new\n",
    "out[\"churn_pred\"] = pred_new\n",
    "out.to_csv(\"predictions.csv\", index=False)\n",
    "print(\"Predictions saved to predictions.csv\")"
   ]
  },
  {
   "cell_type": "code",
   "execution_count": null,
   "id": "fca893b3-dd00-4609-8e26-7d091e3328b1",
   "metadata": {},
   "outputs": [],
   "source": [
    "thresholds = np.linspace(0.1, 0.9, 17)\n",
    "best_thr, best_f1 = 0.5, -1.0\n",
    "for thr in thresholds:\n",
    "    yp = (y_proba >= thr).astype(int)\n",
    "    f1_thr = f1_score(y_test, yp, zero_division=0)\n",
    "    if f1_thr > best_f1:\n",
    "        best_f1, best_thr = f1_thr, thr\n",
    "print(f\"Best F1={best_f1:.3f} at threshold={best_thr:.2f}\")\n"
   ]
  }
 ],
 "metadata": {
  "kernelspec": {
   "display_name": "Python 3 (ipykernel)",
   "language": "python",
   "name": "python3"
  },
  "language_info": {
   "codemirror_mode": {
    "name": "ipython",
    "version": 3
   },
   "file_extension": ".py",
   "mimetype": "text/x-python",
   "name": "python",
   "nbconvert_exporter": "python",
   "pygments_lexer": "ipython3",
   "version": "3.10.16"
  }
 },
 "nbformat": 4,
 "nbformat_minor": 5
}
