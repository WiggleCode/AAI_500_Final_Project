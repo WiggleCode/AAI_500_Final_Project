{
 "cells": [
  {
   "cell_type": "code",
   "execution_count": null,
   "id": "7a280070-7ba4-45ef-b2ad-264063e8dd1a",
   "metadata": {},
   "outputs": [],
   "source": []
  }
 ],
 "metadata": {
  "kernelspec": {
   "display_name": "Python [conda env:AAI_500_Project] *",
   "language": "python",
   "name": "conda-env-AAI_500_Project-py"
  },
  "language_info": {
   "codemirror_mode": {
    "name": "ipython",
    "version": 3
   },
   "file_extension": ".py",
   "mimetype": "text/x-python",
   "name": "python",
   "nbconvert_exporter": "python",
   "pygments_lexer": "ipython3",
   "version": "3.11.13"
  }
 },
 "nbformat": 4,
 "nbformat_minor": 5
}
