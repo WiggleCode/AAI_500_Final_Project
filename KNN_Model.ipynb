{
 "cells": [
  {
   "cell_type": "code",
   "execution_count": null,
   "id": "632a15ef-b2f1-4642-b49c-b6d79f3ab745",
   "metadata": {},
   "outputs": [],
   "source": [
    "# Jeffery Smith"
   ]
  },
  {
   "cell_type": "code",
   "execution_count": 15,
   "id": "63efa4f6-8a0d-44af-830f-84eda3779293",
   "metadata": {},
   "outputs": [],
   "source": [
    "# --- imports for KNN Model\n",
    "import numpy as np\n",
    "import pandas as pd\n",
    "from sklearn.model_selection import train_test_split\n",
    "from sklearn.neighbors import KNeighborsClassifier\n",
    "from sklearn.metrics import accuracy_score, confusion_matrix, classification_report"
   ]
  },
  {
   "cell_type": "code",
   "execution_count": 26,
   "id": "7c819096-5867-4c32-b522-10a3ab4cb619",
   "metadata": {},
   "outputs": [
    {
     "name": "stdout",
     "output_type": "stream",
     "text": [
      "Accuracy (via accuracy()): 0.872\n",
      "Accuracy (via y_pred):     0.872\n",
      "\n",
      "Confusion matrix:\n",
      "[[706  24]\n",
      " [ 85  35]]\n",
      "\n",
      "Classification report:\n",
      "              precision    recall  f1-score   support\n",
      "\n",
      "           0      0.893     0.967     0.928       730\n",
      "           1      0.593     0.292     0.391       120\n",
      "\n",
      "    accuracy                          0.872       850\n",
      "   macro avg      0.743     0.629     0.660       850\n",
      "weighted avg      0.850     0.872     0.852       850\n",
      "\n"
     ]
    }
   ],
   "source": [
    "# ChatGPT heavily refactored\n",
    "\n",
    "# --- helper ---\n",
    "def accuracy(k, X_train, y_train, X_test, y_test):\n",
    "    \"\"\"\n",
    "    Compute accuracy of a KNN classifier for the given k.\n",
    "    \"\"\"\n",
    "    knn = KNeighborsClassifier(n_neighbors=k)\n",
    "    knn.fit(X_train, y_train)\n",
    "    pred = knn.predict(X_test)\n",
    "    return accuracy_score(y_test, pred)\n",
    "\n",
    "# --- Load training data ---\n",
    "train_df = pd.read_csv('train.csv')\n",
    "\n",
    "# Encode churn column as binary (robust to capitalization/whitespace)\n",
    "train_df[\"churn_encoded\"] = (\n",
    "    train_df[\"churn\"].astype(str).str.strip().str.lower().map({\"no\": 0, \"yes\": 1})\n",
    ")\n",
    "\n",
    "# Features (predictors) — coerce to numeric to avoid accidental object dtypes\n",
    "feature_cols = [\n",
    "    'total_day_minutes', 'total_eve_minutes', 'total_night_minutes',\n",
    "    'total_intl_minutes', 'total_day_calls', 'total_eve_calls',\n",
    "    'total_night_calls', 'number_customer_service_calls'\n",
    "]\n",
    "X = train_df[feature_cols].apply(pd.to_numeric, errors='coerce')\n",
    "\n",
    "# Target (0/1)\n",
    "y = pd.to_numeric(train_df['churn_encoded'], errors='coerce')\n",
    "\n",
    "# Drop any rows with missing values in X or y to keep train/test split happy\n",
    "clean = pd.concat([X, y.rename('churn_encoded')], axis=1).dropna()\n",
    "X = clean[feature_cols]\n",
    "y = clean['churn_encoded'].astype(int)\n",
    "\n",
    "# --- Split the data into training and testing sets ---\n",
    "# Use stratify to preserve churn class balance when possible\n",
    "classes, counts = np.unique(y, return_counts=True)\n",
    "stratify_arg = y if (len(classes) > 1 and counts.min() >= 2) else None\n",
    "\n",
    "X_train, X_test, y_train, y_test = train_test_split(\n",
    "    X, y, test_size=0.2, random_state=42, stratify=stratify_arg\n",
    ")\n",
    "\n",
    "# --- Train the KNN model ---\n",
    "k_value = 5\n",
    "knn_model = KNeighborsClassifier(n_neighbors=k_value)\n",
    "knn_model.fit(X_train, y_train)\n",
    "\n",
    "# --- Make predictions ---\n",
    "y_pred = knn_model.predict(X_test)\n",
    "\n",
    "# --- Call the accuracy function (fits a fresh model for the same split) ---\n",
    "test_accuracy = accuracy(k_value, X_train, y_train, X_test, y_test)\n",
    "\n",
    "# --- Evaluate the model ---\n",
    "print(f\"Accuracy (via accuracy()): {test_accuracy:.3f}\")\n",
    "print(f\"Accuracy (via y_pred):     {accuracy_score(y_test, y_pred):.3f}\")\n",
    "print(\"\\nConfusion matrix:\")\n",
    "print(confusion_matrix(y_test, y_pred))\n",
    "print(\"\\nClassification report:\")\n",
    "print(classification_report(y_test, y_pred, digits=3))\n"
   ]
  },
  {
   "cell_type": "code",
   "execution_count": null,
   "id": "74a4e69b-f0a0-459d-8d97-9f299715ee71",
   "metadata": {},
   "outputs": [],
   "source": []
  }
 ],
 "metadata": {
  "kernelspec": {
   "display_name": "Python [conda env:AAI_500_Project] *",
   "language": "python",
   "name": "conda-env-AAI_500_Project-py"
  },
  "language_info": {
   "codemirror_mode": {
    "name": "ipython",
    "version": 3
   },
   "file_extension": ".py",
   "mimetype": "text/x-python",
   "name": "python",
   "nbconvert_exporter": "python",
   "pygments_lexer": "ipython3",
   "version": "3.11.13"
  }
 },
 "nbformat": 4,
 "nbformat_minor": 5
}
