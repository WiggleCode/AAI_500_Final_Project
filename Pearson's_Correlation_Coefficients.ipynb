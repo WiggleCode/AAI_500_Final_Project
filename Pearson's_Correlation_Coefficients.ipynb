{
 "cells": [
  {
   "cell_type": "code",
   "execution_count": 4,
   "id": "0963715e-17bd-440e-b803-a4c782b8062d",
   "metadata": {},
   "outputs": [],
   "source": [
    "# Jeffery Smith"
   ]
  },
  {
   "cell_type": "code",
   "execution_count": 2,
   "id": "59be9237-8949-4fad-90ee-2265cab366cf",
   "metadata": {},
   "outputs": [],
   "source": [
    "import pandas as pd"
   ]
  },
  {
   "cell_type": "code",
   "execution_count": 3,
   "id": "ff838ade-be62-4e8f-b709-25dd1208d90b",
   "metadata": {},
   "outputs": [
    {
     "name": "stdout",
     "output_type": "stream",
     "text": [
      "                     total_day_minutes  total_eve_minutes  \\\n",
      "total_day_minutes             1.000000          -0.013248   \n",
      "total_eve_minutes            -0.013248           1.000000   \n",
      "total_night_minutes           0.010049          -0.014018   \n",
      "total_intl_minutes           -0.021369          -0.003509   \n",
      "total_day_charge              1.000000          -0.013247   \n",
      "total_eve_charge             -0.013258           1.000000   \n",
      "total_night_charge            0.010036          -0.014031   \n",
      "total_intl_charge            -0.021291          -0.003460   \n",
      "\n",
      "                     total_night_minutes  total_intl_minutes  \\\n",
      "total_day_minutes               0.010049           -0.021369   \n",
      "total_eve_minutes              -0.014018           -0.003509   \n",
      "total_night_minutes             1.000000           -0.000113   \n",
      "total_intl_minutes             -0.000113            1.000000   \n",
      "total_day_charge                0.010053           -0.021374   \n",
      "total_eve_charge               -0.014022           -0.003512   \n",
      "total_night_charge              0.999999           -0.000103   \n",
      "total_intl_charge              -0.000047            0.999993   \n",
      "\n",
      "                     total_day_charge  total_eve_charge  total_night_charge  \\\n",
      "total_day_minutes            1.000000         -0.013258            0.010036   \n",
      "total_eve_minutes           -0.013247          1.000000           -0.014031   \n",
      "total_night_minutes          0.010053         -0.014022            0.999999   \n",
      "total_intl_minutes          -0.021374         -0.003512           -0.000103   \n",
      "total_day_charge             1.000000         -0.013257            0.010040   \n",
      "total_eve_charge            -0.013257          1.000000           -0.014035   \n",
      "total_night_charge           0.010040         -0.014035            1.000000   \n",
      "total_intl_charge           -0.021296         -0.003463           -0.000037   \n",
      "\n",
      "                     total_intl_charge  \n",
      "total_day_minutes            -0.021291  \n",
      "total_eve_minutes            -0.003460  \n",
      "total_night_minutes          -0.000047  \n",
      "total_intl_minutes            0.999993  \n",
      "total_day_charge             -0.021296  \n",
      "total_eve_charge             -0.003463  \n",
      "total_night_charge           -0.000037  \n",
      "total_intl_charge             1.000000  \n"
     ]
    }
   ],
   "source": [
    "### Pearson's Correlation Coefficients ###\n",
    "## Did not provide any hidden data other than proving minute to charge correlation is accurate.\n",
    "\n",
    "# Load training data\n",
    "train_df = pd.read_csv('train.csv')\n",
    "\n",
    "\n",
    "correlation_matrix = train_df[['total_day_minutes', 'total_eve_minutes', 'total_night_minutes',\n",
    "                               'total_intl_minutes', 'total_day_charge', 'total_eve_charge',\n",
    "                               'total_night_charge', 'total_intl_charge']].corr()\n",
    "\n",
    "print(correlation_matrix)"
   ]
  }
 ],
 "metadata": {
  "kernelspec": {
   "display_name": "Python [conda env:AAI_500_Project] *",
   "language": "python",
   "name": "conda-env-AAI_500_Project-py"
  },
  "language_info": {
   "codemirror_mode": {
    "name": "ipython",
    "version": 3
   },
   "file_extension": ".py",
   "mimetype": "text/x-python",
   "name": "python",
   "nbconvert_exporter": "python",
   "pygments_lexer": "ipython3",
   "version": "3.11.13"
  }
 },
 "nbformat": 4,
 "nbformat_minor": 5
}
